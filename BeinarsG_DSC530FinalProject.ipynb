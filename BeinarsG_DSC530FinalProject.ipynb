{
 "cells": [
  {
   "cell_type": "markdown",
   "metadata": {},
   "source": [
    "### Introduction & Research Questions\n",
    "For my final project, I used a data set of colic in horses that I found at the following [link], (1). There are two data sources that I used from this link, the csv file containing the data set and a txt file that is a data dictionary containing fuller descriptions of the data.  Colic in horses can vary greatly in severity (2).\n",
    "\n",
    "The research questions that I will answer using this data set are as follow:\n",
    "\n",
    "* Is there a correlation between any of the variables?\n",
    "* Are there any outliers?\n",
    "* Are there any major differences observed in horses that survived and horses that did not?\n",
    "* Is there a statistically significant relationship between any of the variables and the outcome?\n",
    "\n",
    "The variables that I will focus on and use to answer the above questions are:\n",
    "\n",
    "* **Hospital Number**:  Numeric identifier assigned to the horse.\n",
    "* **Age**:  1 represents an adult horse and 2 represents a horse less than 6 months.\n",
    "* **Rectal Temperature**:  The temperature is reported in degrees Celsius and a normal temperature is 37.8C.  This parameter will usually change as the problem progresses and an elevated temperature is an indication of infection.\n",
    "* **Pulse**:  The pulse is measured in beats/minute.  A low or high pulse may indicate a heart condition.  A normal pulse for an adult horse is 30-40 beats/minute, although athletic horses may have a lower rate of 20-25 beats/minute.  Horses that may have painful lesions or are suffering from circulatory shock may have an elevated pulse.\n",
    "* **Respiratory Rate**:  A normal respiratory rate of a horse is 8 to 10.\n",
    "* **Packed Cell Volume**:  This is the number of red cells by volume in the blood.  The normal range is 30 to 50, but the level may rise as circulation becomes compromised or as the horse becomes dehydrated.\n",
    "* **Total Protein**:  Normal values are 6-7.5 gms/dL, and with higher values the greater dehydration the horse may be exhibiting.\n",
    "* **Outcome**:  This is labeled as 1 for surviving, 2 for dying and 3 for euthanization.\n",
    "\n",
    "[link]: https://www.kaggle.com/uciml/horse-colic\n",
    "\n",
    "Reference (2) PetMD. (2019, December 20). Colic in Horses: Signs, Causes and Treatment. Retrieved from https://www.petmd.com/horse/conditions/digestive/c_hr_equine_colic"
   ]
  },
  {
   "cell_type": "markdown",
   "metadata": {},
   "source": [
    "#### Load Library Packages"
   ]
  },
  {
   "cell_type": "code",
   "execution_count": 1,
   "metadata": {},
   "outputs": [],
   "source": [
    "# visualization\n",
    "%matplotlib inline \n",
    "\n",
    "import pandas as pd # data analysis\n",
    "import numpy as np # basic numerical operation\n",
    "import thinkstats2 # module\n",
    "import thinkplot # wrapper for matplotlib\n",
    "import scipy.stats # for standard normal CDF\n",
    "import statsmodels.formula.api as smf # for multiple regression "
   ]
  },
  {
   "cell_type": "markdown",
   "metadata": {},
   "source": [
    "#### Importing, Exploring & Cleaning the Data"
   ]
  },
  {
   "cell_type": "code",
   "execution_count": 2,
   "metadata": {},
   "outputs": [
    {
     "name": "stdout",
     "output_type": "stream",
     "text": [
      "    surgery    age  hospital_number  rectal_temp  pulse  respiratory_rate  \\\n",
      "0        no  adult           530101         38.5   66.0              28.0   \n",
      "1       yes  adult           534817         39.2   88.0              20.0   \n",
      "2        no  adult           530334         38.3   40.0              24.0   \n",
      "3       yes  young          5290409         39.1  164.0              84.0   \n",
      "4        no  adult           530255         37.3  104.0              35.0   \n",
      "..      ...    ...              ...          ...    ...               ...   \n",
      "294     yes  adult           533886          NaN  120.0              70.0   \n",
      "295      no  adult           527702         37.2   72.0              24.0   \n",
      "296     yes  adult           529386         37.5   72.0              30.0   \n",
      "297     yes  adult           530612         36.5  100.0              24.0   \n",
      "298     yes  adult           534618         37.2   40.0              20.0   \n",
      "\n",
      "    temp_of_extremities peripheral_pulse mucous_membrane  \\\n",
      "0                  cool          reduced             NaN   \n",
      "1                   NaN              NaN   pale_cyanotic   \n",
      "2                normal           normal       pale_pink   \n",
      "3                  cold           normal   dark_cyanotic   \n",
      "4                   NaN              NaN   dark_cyanotic   \n",
      "..                  ...              ...             ...   \n",
      "294                cold              NaN   pale_cyanotic   \n",
      "295                cool        increased   pale_cyanotic   \n",
      "296                cold          reduced   pale_cyanotic   \n",
      "297                cool          reduced       pale_pink   \n",
      "298                 NaN              NaN             NaN   \n",
      "\n",
      "    capillary_refill_time  ... packed_cell_volume total_protein  \\\n",
      "0              more_3_sec  ...               45.0           8.4   \n",
      "1              less_3_sec  ...               50.0          85.0   \n",
      "2              less_3_sec  ...               33.0           6.7   \n",
      "3              more_3_sec  ...               48.0           7.2   \n",
      "4              more_3_sec  ...               74.0           7.4   \n",
      "..                    ...  ...                ...           ...   \n",
      "294            more_3_sec  ...               55.0          65.0   \n",
      "295            more_3_sec  ...               44.0           NaN   \n",
      "296            less_3_sec  ...               60.0           6.8   \n",
      "297            less_3_sec  ...               50.0           6.0   \n",
      "298                   NaN  ...               36.0          62.0   \n",
      "\n",
      "    abdomo_appearance abdomo_protein     outcome  surgical_lesion lesion_1  \\\n",
      "0                 NaN            NaN        died               no    11300   \n",
      "1              cloudy            2.0  euthanized               no     2208   \n",
      "2                 NaN            NaN       lived               no        0   \n",
      "3       serosanguious            5.3        died              yes     2208   \n",
      "4                 NaN            NaN        died               no     4300   \n",
      "..                ...            ...         ...              ...      ...   \n",
      "294               NaN            NaN  euthanized               no     3205   \n",
      "295     serosanguious            3.3  euthanized              yes     2208   \n",
      "296               NaN            NaN        died              yes     3205   \n",
      "297     serosanguious            3.4       lived              yes     2208   \n",
      "298             clear            1.0  euthanized               no     6112   \n",
      "\n",
      "    lesion_2  lesion_3  cp_data  \n",
      "0          0         0       no  \n",
      "1          0         0       no  \n",
      "2          0         0      yes  \n",
      "3          0         0      yes  \n",
      "4          0         0       no  \n",
      "..       ...       ...      ...  \n",
      "294        0         0       no  \n",
      "295        0         0      yes  \n",
      "296        0         0       no  \n",
      "297        0         0      yes  \n",
      "298        0         0       no  \n",
      "\n",
      "[299 rows x 28 columns]\n"
     ]
    }
   ],
   "source": [
    "# Read in the data.\n",
    "\n",
    "df = pd.read_csv('horse.csv')\n",
    "print(df)"
   ]
  },
  {
   "cell_type": "code",
   "execution_count": 3,
   "metadata": {},
   "outputs": [
    {
     "name": "stdout",
     "output_type": "stream",
     "text": [
      "There are 299 rows and 28 columns in the data frame.\n"
     ]
    }
   ],
   "source": [
    "# How many rows and columns are in the data set?\n",
    "\n",
    "n_rows, n_cols = df.shape\n",
    "print('There are {} rows and {} columns in the data frame.'.format(n_rows, n_cols))"
   ]
  },
  {
   "cell_type": "code",
   "execution_count": 4,
   "metadata": {},
   "outputs": [
    {
     "data": {
      "text/plain": [
       "pandas.core.frame.DataFrame"
      ]
     },
     "execution_count": 4,
     "metadata": {},
     "output_type": "execute_result"
    }
   ],
   "source": [
    "# Check the data type.\n",
    "\n",
    "type(df)"
   ]
  },
  {
   "cell_type": "code",
   "execution_count": 5,
   "metadata": {},
   "outputs": [
    {
     "data": {
      "text/plain": [
       "Index(['surgery', 'age', 'hospital_number', 'rectal_temp', 'pulse',\n",
       "       'respiratory_rate', 'temp_of_extremities', 'peripheral_pulse',\n",
       "       'mucous_membrane', 'capillary_refill_time', 'pain', 'peristalsis',\n",
       "       'abdominal_distention', 'nasogastric_tube', 'nasogastric_reflux',\n",
       "       'nasogastric_reflux_ph', 'rectal_exam_feces', 'abdomen',\n",
       "       'packed_cell_volume', 'total_protein', 'abdomo_appearance',\n",
       "       'abdomo_protein', 'outcome', 'surgical_lesion', 'lesion_1', 'lesion_2',\n",
       "       'lesion_3', 'cp_data'],\n",
       "      dtype='object')"
      ]
     },
     "execution_count": 5,
     "metadata": {},
     "output_type": "execute_result"
    }
   ],
   "source": [
    "# Explore the column titles. \n",
    "\n",
    "df.columns"
   ]
  },
  {
   "cell_type": "code",
   "execution_count": 6,
   "metadata": {},
   "outputs": [
    {
     "data": {
      "text/html": [
       "<div>\n",
       "<style scoped>\n",
       "    .dataframe tbody tr th:only-of-type {\n",
       "        vertical-align: middle;\n",
       "    }\n",
       "\n",
       "    .dataframe tbody tr th {\n",
       "        vertical-align: top;\n",
       "    }\n",
       "\n",
       "    .dataframe thead th {\n",
       "        text-align: right;\n",
       "    }\n",
       "</style>\n",
       "<table border=\"1\" class=\"dataframe\">\n",
       "  <thead>\n",
       "    <tr style=\"text-align: right;\">\n",
       "      <th></th>\n",
       "      <th>surgery</th>\n",
       "      <th>age</th>\n",
       "      <th>hospital_number</th>\n",
       "      <th>rectal_temp</th>\n",
       "      <th>pulse</th>\n",
       "      <th>respiratory_rate</th>\n",
       "      <th>temp_of_extremities</th>\n",
       "      <th>peripheral_pulse</th>\n",
       "      <th>mucous_membrane</th>\n",
       "      <th>capillary_refill_time</th>\n",
       "      <th>...</th>\n",
       "      <th>packed_cell_volume</th>\n",
       "      <th>total_protein</th>\n",
       "      <th>abdomo_appearance</th>\n",
       "      <th>abdomo_protein</th>\n",
       "      <th>outcome</th>\n",
       "      <th>surgical_lesion</th>\n",
       "      <th>lesion_1</th>\n",
       "      <th>lesion_2</th>\n",
       "      <th>lesion_3</th>\n",
       "      <th>cp_data</th>\n",
       "    </tr>\n",
       "  </thead>\n",
       "  <tbody>\n",
       "    <tr>\n",
       "      <td>0</td>\n",
       "      <td>no</td>\n",
       "      <td>adult</td>\n",
       "      <td>530101</td>\n",
       "      <td>38.5</td>\n",
       "      <td>66.0</td>\n",
       "      <td>28.0</td>\n",
       "      <td>cool</td>\n",
       "      <td>reduced</td>\n",
       "      <td>NaN</td>\n",
       "      <td>more_3_sec</td>\n",
       "      <td>...</td>\n",
       "      <td>45.0</td>\n",
       "      <td>8.4</td>\n",
       "      <td>NaN</td>\n",
       "      <td>NaN</td>\n",
       "      <td>died</td>\n",
       "      <td>no</td>\n",
       "      <td>11300</td>\n",
       "      <td>0</td>\n",
       "      <td>0</td>\n",
       "      <td>no</td>\n",
       "    </tr>\n",
       "    <tr>\n",
       "      <td>1</td>\n",
       "      <td>yes</td>\n",
       "      <td>adult</td>\n",
       "      <td>534817</td>\n",
       "      <td>39.2</td>\n",
       "      <td>88.0</td>\n",
       "      <td>20.0</td>\n",
       "      <td>NaN</td>\n",
       "      <td>NaN</td>\n",
       "      <td>pale_cyanotic</td>\n",
       "      <td>less_3_sec</td>\n",
       "      <td>...</td>\n",
       "      <td>50.0</td>\n",
       "      <td>85.0</td>\n",
       "      <td>cloudy</td>\n",
       "      <td>2.0</td>\n",
       "      <td>euthanized</td>\n",
       "      <td>no</td>\n",
       "      <td>2208</td>\n",
       "      <td>0</td>\n",
       "      <td>0</td>\n",
       "      <td>no</td>\n",
       "    </tr>\n",
       "    <tr>\n",
       "      <td>2</td>\n",
       "      <td>no</td>\n",
       "      <td>adult</td>\n",
       "      <td>530334</td>\n",
       "      <td>38.3</td>\n",
       "      <td>40.0</td>\n",
       "      <td>24.0</td>\n",
       "      <td>normal</td>\n",
       "      <td>normal</td>\n",
       "      <td>pale_pink</td>\n",
       "      <td>less_3_sec</td>\n",
       "      <td>...</td>\n",
       "      <td>33.0</td>\n",
       "      <td>6.7</td>\n",
       "      <td>NaN</td>\n",
       "      <td>NaN</td>\n",
       "      <td>lived</td>\n",
       "      <td>no</td>\n",
       "      <td>0</td>\n",
       "      <td>0</td>\n",
       "      <td>0</td>\n",
       "      <td>yes</td>\n",
       "    </tr>\n",
       "    <tr>\n",
       "      <td>3</td>\n",
       "      <td>yes</td>\n",
       "      <td>young</td>\n",
       "      <td>5290409</td>\n",
       "      <td>39.1</td>\n",
       "      <td>164.0</td>\n",
       "      <td>84.0</td>\n",
       "      <td>cold</td>\n",
       "      <td>normal</td>\n",
       "      <td>dark_cyanotic</td>\n",
       "      <td>more_3_sec</td>\n",
       "      <td>...</td>\n",
       "      <td>48.0</td>\n",
       "      <td>7.2</td>\n",
       "      <td>serosanguious</td>\n",
       "      <td>5.3</td>\n",
       "      <td>died</td>\n",
       "      <td>yes</td>\n",
       "      <td>2208</td>\n",
       "      <td>0</td>\n",
       "      <td>0</td>\n",
       "      <td>yes</td>\n",
       "    </tr>\n",
       "    <tr>\n",
       "      <td>4</td>\n",
       "      <td>no</td>\n",
       "      <td>adult</td>\n",
       "      <td>530255</td>\n",
       "      <td>37.3</td>\n",
       "      <td>104.0</td>\n",
       "      <td>35.0</td>\n",
       "      <td>NaN</td>\n",
       "      <td>NaN</td>\n",
       "      <td>dark_cyanotic</td>\n",
       "      <td>more_3_sec</td>\n",
       "      <td>...</td>\n",
       "      <td>74.0</td>\n",
       "      <td>7.4</td>\n",
       "      <td>NaN</td>\n",
       "      <td>NaN</td>\n",
       "      <td>died</td>\n",
       "      <td>no</td>\n",
       "      <td>4300</td>\n",
       "      <td>0</td>\n",
       "      <td>0</td>\n",
       "      <td>no</td>\n",
       "    </tr>\n",
       "  </tbody>\n",
       "</table>\n",
       "<p>5 rows × 28 columns</p>\n",
       "</div>"
      ],
      "text/plain": [
       "  surgery    age  hospital_number  rectal_temp  pulse  respiratory_rate  \\\n",
       "0      no  adult           530101         38.5   66.0              28.0   \n",
       "1     yes  adult           534817         39.2   88.0              20.0   \n",
       "2      no  adult           530334         38.3   40.0              24.0   \n",
       "3     yes  young          5290409         39.1  164.0              84.0   \n",
       "4      no  adult           530255         37.3  104.0              35.0   \n",
       "\n",
       "  temp_of_extremities peripheral_pulse mucous_membrane capillary_refill_time  \\\n",
       "0                cool          reduced             NaN            more_3_sec   \n",
       "1                 NaN              NaN   pale_cyanotic            less_3_sec   \n",
       "2              normal           normal       pale_pink            less_3_sec   \n",
       "3                cold           normal   dark_cyanotic            more_3_sec   \n",
       "4                 NaN              NaN   dark_cyanotic            more_3_sec   \n",
       "\n",
       "   ... packed_cell_volume total_protein abdomo_appearance abdomo_protein  \\\n",
       "0  ...               45.0           8.4               NaN            NaN   \n",
       "1  ...               50.0          85.0            cloudy            2.0   \n",
       "2  ...               33.0           6.7               NaN            NaN   \n",
       "3  ...               48.0           7.2     serosanguious            5.3   \n",
       "4  ...               74.0           7.4               NaN            NaN   \n",
       "\n",
       "      outcome  surgical_lesion lesion_1 lesion_2  lesion_3  cp_data  \n",
       "0        died               no    11300        0         0       no  \n",
       "1  euthanized               no     2208        0         0       no  \n",
       "2       lived               no        0        0         0      yes  \n",
       "3        died              yes     2208        0         0      yes  \n",
       "4        died               no     4300        0         0       no  \n",
       "\n",
       "[5 rows x 28 columns]"
      ]
     },
     "execution_count": 6,
     "metadata": {},
     "output_type": "execute_result"
    }
   ],
   "source": [
    "# Preview the DataFrame\n",
    "\n",
    "df.head()"
   ]
  },
  {
   "cell_type": "code",
   "execution_count": 7,
   "metadata": {},
   "outputs": [],
   "source": [
    "# I've dropped the variables that I will not be using in order for cleaner output.\n",
    "\n",
    "df = df.drop(['surgery','temp_of_extremities', 'peripheral_pulse', 'mucous_membrane', \n",
    "         'capillary_refill_time', 'pain', 'peristalsis', 'abdominal_distention', \n",
    "         'nasogastric_tube', 'nasogastric_reflux', 'nasogastric_reflux_ph', \n",
    "         'rectal_exam_feces', 'abdomen', 'abdomo_appearance', 'abdomo_protein', \n",
    "         'surgical_lesion', 'lesion_1', 'lesion_2', 'lesion_3', 'cp_data'], axis=1)"
   ]
  },
  {
   "cell_type": "code",
   "execution_count": 8,
   "metadata": {},
   "outputs": [
    {
     "data": {
      "text/html": [
       "<div>\n",
       "<style scoped>\n",
       "    .dataframe tbody tr th:only-of-type {\n",
       "        vertical-align: middle;\n",
       "    }\n",
       "\n",
       "    .dataframe tbody tr th {\n",
       "        vertical-align: top;\n",
       "    }\n",
       "\n",
       "    .dataframe thead th {\n",
       "        text-align: right;\n",
       "    }\n",
       "</style>\n",
       "<table border=\"1\" class=\"dataframe\">\n",
       "  <thead>\n",
       "    <tr style=\"text-align: right;\">\n",
       "      <th></th>\n",
       "      <th>age</th>\n",
       "      <th>hospital_number</th>\n",
       "      <th>rectal_temp</th>\n",
       "      <th>pulse</th>\n",
       "      <th>respiratory_rate</th>\n",
       "      <th>packed_cell_volume</th>\n",
       "      <th>total_protein</th>\n",
       "      <th>outcome</th>\n",
       "    </tr>\n",
       "  </thead>\n",
       "  <tbody>\n",
       "    <tr>\n",
       "      <td>0</td>\n",
       "      <td>adult</td>\n",
       "      <td>530101</td>\n",
       "      <td>38.5</td>\n",
       "      <td>66.0</td>\n",
       "      <td>28.0</td>\n",
       "      <td>45.0</td>\n",
       "      <td>8.4</td>\n",
       "      <td>died</td>\n",
       "    </tr>\n",
       "    <tr>\n",
       "      <td>1</td>\n",
       "      <td>adult</td>\n",
       "      <td>534817</td>\n",
       "      <td>39.2</td>\n",
       "      <td>88.0</td>\n",
       "      <td>20.0</td>\n",
       "      <td>50.0</td>\n",
       "      <td>85.0</td>\n",
       "      <td>euthanized</td>\n",
       "    </tr>\n",
       "    <tr>\n",
       "      <td>2</td>\n",
       "      <td>adult</td>\n",
       "      <td>530334</td>\n",
       "      <td>38.3</td>\n",
       "      <td>40.0</td>\n",
       "      <td>24.0</td>\n",
       "      <td>33.0</td>\n",
       "      <td>6.7</td>\n",
       "      <td>lived</td>\n",
       "    </tr>\n",
       "    <tr>\n",
       "      <td>3</td>\n",
       "      <td>young</td>\n",
       "      <td>5290409</td>\n",
       "      <td>39.1</td>\n",
       "      <td>164.0</td>\n",
       "      <td>84.0</td>\n",
       "      <td>48.0</td>\n",
       "      <td>7.2</td>\n",
       "      <td>died</td>\n",
       "    </tr>\n",
       "    <tr>\n",
       "      <td>4</td>\n",
       "      <td>adult</td>\n",
       "      <td>530255</td>\n",
       "      <td>37.3</td>\n",
       "      <td>104.0</td>\n",
       "      <td>35.0</td>\n",
       "      <td>74.0</td>\n",
       "      <td>7.4</td>\n",
       "      <td>died</td>\n",
       "    </tr>\n",
       "  </tbody>\n",
       "</table>\n",
       "</div>"
      ],
      "text/plain": [
       "     age  hospital_number  rectal_temp  pulse  respiratory_rate  \\\n",
       "0  adult           530101         38.5   66.0              28.0   \n",
       "1  adult           534817         39.2   88.0              20.0   \n",
       "2  adult           530334         38.3   40.0              24.0   \n",
       "3  young          5290409         39.1  164.0              84.0   \n",
       "4  adult           530255         37.3  104.0              35.0   \n",
       "\n",
       "   packed_cell_volume  total_protein     outcome  \n",
       "0                45.0            8.4        died  \n",
       "1                50.0           85.0  euthanized  \n",
       "2                33.0            6.7       lived  \n",
       "3                48.0            7.2        died  \n",
       "4                74.0            7.4        died  "
      ]
     },
     "execution_count": 8,
     "metadata": {},
     "output_type": "execute_result"
    }
   ],
   "source": [
    "# Preview of the variables we will be looking at.\n",
    "\n",
    "df.head()"
   ]
  },
  {
   "cell_type": "code",
   "execution_count": 9,
   "metadata": {},
   "outputs": [
    {
     "data": {
      "text/plain": [
       "lived         178\n",
       "died           77\n",
       "euthanized     44\n",
       "Name: outcome, dtype: int64"
      ]
     },
     "execution_count": 9,
     "metadata": {},
     "output_type": "execute_result"
    }
   ],
   "source": [
    "# Look at the count of the outcome variable.\n",
    "\n",
    "df.outcome.value_counts()"
   ]
  },
  {
   "cell_type": "code",
   "execution_count": 10,
   "metadata": {},
   "outputs": [],
   "source": [
    "# I've replaced 1 for 'lived', 2 for 'died' and 3 for 'euthanized'.\n",
    "\n",
    "df.outcome.replace('lived', 1, inplace=True)\n",
    "df.outcome.replace('died', 2, inplace=True)\n",
    "df.outcome.replace('euthanized', 3, inplace=True)"
   ]
  },
  {
   "cell_type": "code",
   "execution_count": 11,
   "metadata": {},
   "outputs": [
    {
     "data": {
      "text/plain": [
       "1    178\n",
       "2     77\n",
       "3     44\n",
       "Name: outcome, dtype: int64"
      ]
     },
     "execution_count": 11,
     "metadata": {},
     "output_type": "execute_result"
    }
   ],
   "source": [
    "# Confirm that the replacement was made correctly and we now have \n",
    "# integers rather than objects.\n",
    "\n",
    "df.outcome.value_counts()"
   ]
  },
  {
   "cell_type": "code",
   "execution_count": 12,
   "metadata": {},
   "outputs": [],
   "source": [
    "# I've replaced age adult with 1, and age young, with 2. \n",
    "\n",
    "df.age.replace('adult', 1, inplace=True)\n",
    "df.age.replace('young', 2, inplace=True)"
   ]
  },
  {
   "cell_type": "code",
   "execution_count": 13,
   "metadata": {},
   "outputs": [
    {
     "data": {
      "text/plain": [
       "float64    5\n",
       "int64      3\n",
       "dtype: int64"
      ]
     },
     "execution_count": 13,
     "metadata": {},
     "output_type": "execute_result"
    }
   ],
   "source": [
    "# Confirm data is no longer object and now numeric. \n",
    "\n",
    "df.dtypes.value_counts()"
   ]
  },
  {
   "cell_type": "code",
   "execution_count": 14,
   "metadata": {},
   "outputs": [
    {
     "data": {
      "text/plain": [
       "age                    0\n",
       "hospital_number        0\n",
       "rectal_temp           60\n",
       "pulse                 24\n",
       "respiratory_rate      58\n",
       "packed_cell_volume    29\n",
       "total_protein         33\n",
       "outcome                0\n",
       "dtype: int64"
      ]
     },
     "execution_count": 14,
     "metadata": {},
     "output_type": "execute_result"
    }
   ],
   "source": [
    "# If I had a larger data set, I would be tempted to drop the rows that contained\n",
    "# missing values, but as the data set is only 299 observations, I do not believe \n",
    "# that is the best option. The variable with the largest amount of \n",
    "# missing information is rectal temperature, with about 20% missing values. \n",
    "# I wonder if there were issues with obtaining rectal temperature, as not\n",
    "# all animals may be comfortable with this.\n",
    "\n",
    "df.isnull().sum()"
   ]
  },
  {
   "cell_type": "markdown",
   "metadata": {},
   "source": [
    "#### Histograms\n",
    "A distribution that is described as bell-shaped is a symmetrical or uniform distribution. The most common result is the mode. "
   ]
  },
  {
   "cell_type": "code",
   "execution_count": 15,
   "metadata": {},
   "outputs": [
    {
     "data": {
      "image/png": "[encoded data removed]",
      "text/plain": [
       "<Figure size 432x288 with 1 Axes>"
      ]
     },
     "metadata": {
      "needs_background": "light"
     },
     "output_type": "display_data"
    }
   ],
   "source": [
    "# Below is a histogram of rectal temperature. It can be observed as roughly\n",
    "# bell-shaped and somewhat symmetrical, visually, and as the mean and mode\n",
    "# are close in value. \n",
    "\n",
    "hist1 = thinkstats2.Hist(df.rectal_temp, label ='Rectal Temperature (C)')\n",
    "thinkplot.Hist(hist1)\n",
    "thinkplot.Config(xlabel='Value', ylabel='Frequency')"
   ]
  },
  {
   "cell_type": "code",
   "execution_count": 16,
   "metadata": {},
   "outputs": [
    {
     "data": {
      "image/png": "[encoded data removed]",
      "text/plain": [
       "<Figure size 432x288 with 1 Axes>"
      ]
     },
     "metadata": {
      "needs_background": "light"
     },
     "output_type": "display_data"
    }
   ],
   "source": [
    "# The histogram below of respiratory rate is slightly skewed right.\n",
    "# We can observe two modes, meaning a biomodal distribution.\n",
    "\n",
    "hist2 = thinkstats2.Hist(df.respiratory_rate, label ='Respiratory Rate')\n",
    "thinkplot.Hist(hist2)\n",
    "thinkplot.Config(xlabel='Value', ylabel='Frequency')"
   ]
  },
  {
   "cell_type": "code",
   "execution_count": 17,
   "metadata": {},
   "outputs": [
    {
     "data": {
      "image/png": "[encoded data removed]",
      "text/plain": [
       "<Figure size 432x288 with 1 Axes>"
      ]
     },
     "metadata": {
      "needs_background": "light"
     },
     "output_type": "display_data"
    }
   ],
   "source": [
    "# This histogram of pulse below shows a distribution that \n",
    "# is slightly skewed right. \n",
    "\n",
    "hist3 = thinkstats2.Hist(df.pulse, label ='Pulse')\n",
    "thinkplot.Hist(hist3)\n",
    "thinkplot.Config(xlabel='Value', ylabel='Frequency')"
   ]
  },
  {
   "cell_type": "code",
   "execution_count": 18,
   "metadata": {},
   "outputs": [
    {
     "data": {
      "image/png": "[encoded data removed]",
      "text/plain": [
       "<Figure size 432x288 with 1 Axes>"
      ]
     },
     "metadata": {
      "needs_background": "light"
     },
     "output_type": "display_data"
    }
   ],
   "source": [
    "# The distribution of respiratory rate is slightly skewed right and \n",
    "# we can observe a bimodal distribution.\n",
    "\n",
    "hist4 = thinkstats2.Hist(df.packed_cell_volume, label ='Packed Cell Volume')\n",
    "thinkplot.Hist(hist4)\n",
    "thinkplot.Config(xlabel='Value', ylabel='Frequency')"
   ]
  },
  {
   "cell_type": "code",
   "execution_count": 19,
   "metadata": {},
   "outputs": [
    {
     "data": {
      "image/png": "[encoded data removed]",
      "text/plain": [
       "<Figure size 432x288 with 1 Axes>"
      ]
     },
     "metadata": {
      "needs_background": "light"
     },
     "output_type": "display_data"
    }
   ],
   "source": [
    "# The distribution of total protein is slightly skewed right.\n",
    "\n",
    "hist5 = thinkstats2.Hist(df.total_protein, label ='Total Protein')\n",
    "thinkplot.Hist(hist5)\n",
    "thinkplot.Config(xlabel='Value', ylabel='Frequency')"
   ]
  },
  {
   "cell_type": "code",
   "execution_count": 20,
   "metadata": {},
   "outputs": [],
   "source": [
    "# I have substituted the missing data with the median of that variable.\n",
    "\n",
    "for col in df.columns.values:\n",
    "    df[col] = df[col].fillna(df[col].median())"
   ]
  },
  {
   "cell_type": "code",
   "execution_count": 21,
   "metadata": {},
   "outputs": [
    {
     "data": {
      "text/plain": [
       "age                   0\n",
       "hospital_number       0\n",
       "rectal_temp           0\n",
       "pulse                 0\n",
       "respiratory_rate      0\n",
       "packed_cell_volume    0\n",
       "total_protein         0\n",
       "outcome               0\n",
       "dtype: int64"
      ]
     },
     "execution_count": 21,
     "metadata": {},
     "output_type": "execute_result"
    }
   ],
   "source": [
    "# Confirm there are no longer missing values.\n",
    "\n",
    "df.isnull().sum()"
   ]
  },
  {
   "cell_type": "markdown",
   "metadata": {},
   "source": [
    "#### Outliers\n",
    "The largest and smallest methods used below to identify outliers, are provided by Hist. They take an integer, below I used 10, and return the 10 largest or smallest values. I did not observe any major outliers that I felt should be removed.  It would have been helpful to have a better understanding of the methodology of the study.  I would be curious if horses were sedated prior to obtaining vitals and medical data, or if these samples were taken on an interval basis. I had concern when comparing the data to research I’d obtained about colic in horses, as to what might be ‘normal’ conditions for horses, compared to the data set."
   ]
  },
  {
   "cell_type": "code",
   "execution_count": 22,
   "metadata": {},
   "outputs": [
    {
     "name": "stdout",
     "output_type": "stream",
     "text": [
      "35.4 1\n",
      "36.0 1\n",
      "36.1 1\n",
      "36.4 1\n",
      "36.5 2\n",
      "36.6 1\n",
      "36.8 1\n",
      "36.9 1\n",
      "37.0 2\n",
      "37.1 3\n"
     ]
    }
   ],
   "source": [
    "for rectal_temp, freq in hist1.Smallest(10):\n",
    "    print(rectal_temp, freq)"
   ]
  },
  {
   "cell_type": "code",
   "execution_count": 23,
   "metadata": {},
   "outputs": [
    {
     "name": "stdout",
     "output_type": "stream",
     "text": [
      "40.8 1\n",
      "40.3 2\n",
      "40.0 1\n",
      "39.9 1\n",
      "39.7 1\n",
      "39.6 1\n",
      "39.5 4\n",
      "39.4 3\n",
      "39.3 4\n",
      "39.2 5\n"
     ]
    }
   ],
   "source": [
    "for rectal_temp, freq in hist1.Largest(10):\n",
    "    print(rectal_temp, freq)"
   ]
  },
  {
   "cell_type": "code",
   "execution_count": 24,
   "metadata": {},
   "outputs": [
    {
     "name": "stdout",
     "output_type": "stream",
     "text": [
      "8.0 1\n",
      "9.0 2\n",
      "10.0 3\n",
      "12.0 19\n",
      "13.0 1\n",
      "14.0 4\n",
      "15.0 1\n",
      "16.0 22\n",
      "18.0 8\n",
      "20.0 27\n"
     ]
    }
   ],
   "source": [
    "for respiratory_rate, freq in hist2.Smallest(10):\n",
    "    print(respiratory_rate, freq)"
   ]
  },
  {
   "cell_type": "code",
   "execution_count": 25,
   "metadata": {},
   "outputs": [
    {
     "name": "stdout",
     "output_type": "stream",
     "text": [
      "96.0 2\n",
      "90.0 2\n",
      "88.0 1\n",
      "84.0 2\n",
      "80.0 3\n",
      "72.0 1\n",
      "70.0 2\n",
      "68.0 3\n",
      "66.0 1\n",
      "60.0 4\n"
     ]
    }
   ],
   "source": [
    "for respiratory_rate, freq in hist2.Largest(10):\n",
    "    print(respiratory_rate, freq)"
   ]
  },
  {
   "cell_type": "code",
   "execution_count": 26,
   "metadata": {},
   "outputs": [
    {
     "name": "stdout",
     "output_type": "stream",
     "text": [
      "30.0 2\n",
      "36.0 3\n",
      "38.0 1\n",
      "40.0 18\n",
      "42.0 10\n",
      "44.0 11\n",
      "45.0 2\n",
      "46.0 1\n",
      "48.0 27\n",
      "49.0 1\n"
     ]
    }
   ],
   "source": [
    "for pulse, freq in hist3.Smallest(10):\n",
    "    print(pulse, freq)"
   ]
  },
  {
   "cell_type": "code",
   "execution_count": 27,
   "metadata": {},
   "outputs": [
    {
     "name": "stdout",
     "output_type": "stream",
     "text": [
      "184.0 1\n",
      "164.0 1\n",
      "160.0 1\n",
      "150.0 2\n",
      "146.0 1\n",
      "140.0 2\n",
      "136.0 1\n",
      "132.0 1\n",
      "130.0 2\n",
      "129.0 1\n"
     ]
    }
   ],
   "source": [
    "for pulse, freq in hist3.Largest(10):\n",
    "    print(pulse, freq)"
   ]
  },
  {
   "cell_type": "code",
   "execution_count": 28,
   "metadata": {},
   "outputs": [
    {
     "name": "stdout",
     "output_type": "stream",
     "text": [
      "23.0 1\n",
      "24.0 1\n",
      "26.0 1\n",
      "28.0 1\n",
      "30.0 1\n",
      "31.0 2\n",
      "31.5 1\n",
      "32.0 2\n",
      "33.0 8\n",
      "34.0 5\n"
     ]
    }
   ],
   "source": [
    "for packed_cell_volume, freq in hist4.Smallest(10):\n",
    "    print(packed_cell_volume, freq)"
   ]
  },
  {
   "cell_type": "code",
   "execution_count": 29,
   "metadata": {},
   "outputs": [
    {
     "name": "stdout",
     "output_type": "stream",
     "text": [
      "75.0 2\n",
      "74.0 1\n",
      "73.0 2\n",
      "72.0 1\n",
      "71.0 1\n",
      "70.0 1\n",
      "69.0 2\n",
      "68.0 4\n",
      "67.0 1\n",
      "66.0 3\n"
     ]
    }
   ],
   "source": [
    "for packed_cell_volume, freq in hist4.Largest(10):\n",
    "    print(packed_cell_volume, freq)"
   ]
  },
  {
   "cell_type": "code",
   "execution_count": 30,
   "metadata": {},
   "outputs": [
    {
     "name": "stdout",
     "output_type": "stream",
     "text": [
      "3.3 1\n",
      "4.0 1\n",
      "4.5 2\n",
      "4.6 1\n",
      "4.7 1\n",
      "4.9 2\n",
      "5.0 1\n",
      "5.3 2\n",
      "5.5 4\n",
      "5.7 3\n"
     ]
    }
   ],
   "source": [
    "for total_protein, freq in hist5.Smallest(10):\n",
    "    print(total_protein, freq)"
   ]
  },
  {
   "cell_type": "code",
   "execution_count": 31,
   "metadata": {},
   "outputs": [
    {
     "name": "stdout",
     "output_type": "stream",
     "text": [
      "89.0 1\n",
      "86.0 1\n",
      "85.0 1\n",
      "82.0 1\n",
      "81.0 2\n",
      "80.0 2\n",
      "77.0 2\n",
      "76.0 1\n",
      "75.0 3\n",
      "74.0 2\n"
     ]
    }
   ],
   "source": [
    "for total_protein, freq in hist5.Largest(10):\n",
    "    print(total_protein, freq)"
   ]
  },
  {
   "cell_type": "markdown",
   "metadata": {},
   "source": [
    "#### Summary Statistics\n",
    "Summary statistics are a way to use descriptive statistics to summarize a distribution. The mode describes whether there is more than one cluster and can be observed from the histograms. The mean is a computed value and describes the central tendency of a distribution. The variance describes the variability or spread of the distribution. The variance can be difficult to interpret due to the units. The standard deviation or deviation from the mean is the square root of the variance. "
   ]
  },
  {
   "cell_type": "code",
   "execution_count": 32,
   "metadata": {},
   "outputs": [
    {
     "data": {
      "text/plain": [
       "(38.174916387959904, 0.4301405131197952, 0.655850983928358)"
      ]
     },
     "execution_count": 32,
     "metadata": {},
     "output_type": "execute_result"
    }
   ],
   "source": [
    "mean1 = df.rectal_temp.mean()\n",
    "var1 = df.rectal_temp.var()\n",
    "std1 = df.rectal_temp.std()\n",
    "mean1, var1, std1"
   ]
  },
  {
   "cell_type": "code",
   "execution_count": 33,
   "metadata": {},
   "outputs": [
    {
     "data": {
      "text/plain": [
       "(29.401337792642142, 256.0263069291371, 16.000822070416792)"
      ]
     },
     "execution_count": 33,
     "metadata": {},
     "output_type": "execute_result"
    }
   ],
   "source": [
    "mean2 = df.respiratory_rate.mean()\n",
    "var2 = df.respiratory_rate.var()\n",
    "std2 = df.respiratory_rate.std()\n",
    "mean2, var2, std2"
   ]
  },
  {
   "cell_type": "code",
   "execution_count": 34,
   "metadata": {},
   "outputs": [
    {
     "data": {
      "text/plain": [
       "(71.35785953177258, 759.2574128526846, 27.554625979183324)"
      ]
     },
     "execution_count": 34,
     "metadata": {},
     "output_type": "execute_result"
    }
   ],
   "source": [
    "mean3 = df.pulse.mean()\n",
    "var3 = df.pulse.var()\n",
    "std3 = df.pulse.std()\n",
    "mean3, var3, std3"
   ]
  },
  {
   "cell_type": "code",
   "execution_count": 35,
   "metadata": {},
   "outputs": [
    {
     "data": {
      "text/plain": [
       "(46.180602006688964, 98.47566272362019, 9.92349045062372)"
      ]
     },
     "execution_count": 35,
     "metadata": {},
     "output_type": "execute_result"
    }
   ],
   "source": [
    "mean4 = df.packed_cell_volume.mean()\n",
    "var4 = df.packed_cell_volume.var()\n",
    "std4 = df.packed_cell_volume.std()\n",
    "mean4, var4, std4"
   ]
  },
  {
   "cell_type": "code",
   "execution_count": 36,
   "metadata": {},
   "outputs": [
    {
     "data": {
      "text/plain": [
       "(22.42307692307693, 693.5990965410424, 26.33626960184457)"
      ]
     },
     "execution_count": 36,
     "metadata": {},
     "output_type": "execute_result"
    }
   ],
   "source": [
    "mean5 = df.total_protein.mean()\n",
    "var5 = df.total_protein.var()\n",
    "std5 = df.total_protein.std()\n",
    "mean5, var5, std5"
   ]
  },
  {
   "cell_type": "code",
   "execution_count": 37,
   "metadata": {},
   "outputs": [
    {
     "data": {
      "text/html": [
       "<div>\n",
       "<style scoped>\n",
       "    .dataframe tbody tr th:only-of-type {\n",
       "        vertical-align: middle;\n",
       "    }\n",
       "\n",
       "    .dataframe tbody tr th {\n",
       "        vertical-align: top;\n",
       "    }\n",
       "\n",
       "    .dataframe thead th {\n",
       "        text-align: right;\n",
       "    }\n",
       "</style>\n",
       "<table border=\"1\" class=\"dataframe\">\n",
       "  <thead>\n",
       "    <tr style=\"text-align: right;\">\n",
       "      <th></th>\n",
       "      <th>age</th>\n",
       "      <th>hospital_number</th>\n",
       "      <th>rectal_temp</th>\n",
       "      <th>pulse</th>\n",
       "      <th>respiratory_rate</th>\n",
       "      <th>packed_cell_volume</th>\n",
       "      <th>total_protein</th>\n",
       "      <th>outcome</th>\n",
       "    </tr>\n",
       "  </thead>\n",
       "  <tbody>\n",
       "    <tr>\n",
       "      <td>count</td>\n",
       "      <td>299.000000</td>\n",
       "      <td>2.990000e+02</td>\n",
       "      <td>299.000000</td>\n",
       "      <td>299.000000</td>\n",
       "      <td>299.000000</td>\n",
       "      <td>299.000000</td>\n",
       "      <td>299.000000</td>\n",
       "      <td>299.000000</td>\n",
       "    </tr>\n",
       "    <tr>\n",
       "      <td>mean</td>\n",
       "      <td>1.080268</td>\n",
       "      <td>1.087733e+06</td>\n",
       "      <td>38.174916</td>\n",
       "      <td>71.357860</td>\n",
       "      <td>29.401338</td>\n",
       "      <td>46.180602</td>\n",
       "      <td>22.423077</td>\n",
       "      <td>1.551839</td>\n",
       "    </tr>\n",
       "    <tr>\n",
       "      <td>std</td>\n",
       "      <td>0.272162</td>\n",
       "      <td>1.532032e+06</td>\n",
       "      <td>0.655851</td>\n",
       "      <td>27.554626</td>\n",
       "      <td>16.000822</td>\n",
       "      <td>9.923490</td>\n",
       "      <td>26.336270</td>\n",
       "      <td>0.737187</td>\n",
       "    </tr>\n",
       "    <tr>\n",
       "      <td>min</td>\n",
       "      <td>1.000000</td>\n",
       "      <td>5.184760e+05</td>\n",
       "      <td>35.400000</td>\n",
       "      <td>30.000000</td>\n",
       "      <td>8.000000</td>\n",
       "      <td>23.000000</td>\n",
       "      <td>3.300000</td>\n",
       "      <td>1.000000</td>\n",
       "    </tr>\n",
       "    <tr>\n",
       "      <td>25%</td>\n",
       "      <td>1.000000</td>\n",
       "      <td>5.289040e+05</td>\n",
       "      <td>37.900000</td>\n",
       "      <td>48.500000</td>\n",
       "      <td>20.000000</td>\n",
       "      <td>39.000000</td>\n",
       "      <td>6.600000</td>\n",
       "      <td>1.000000</td>\n",
       "    </tr>\n",
       "    <tr>\n",
       "      <td>50%</td>\n",
       "      <td>1.000000</td>\n",
       "      <td>5.303010e+05</td>\n",
       "      <td>38.200000</td>\n",
       "      <td>64.000000</td>\n",
       "      <td>25.000000</td>\n",
       "      <td>45.000000</td>\n",
       "      <td>7.500000</td>\n",
       "      <td>1.000000</td>\n",
       "    </tr>\n",
       "    <tr>\n",
       "      <td>75%</td>\n",
       "      <td>1.000000</td>\n",
       "      <td>5.347360e+05</td>\n",
       "      <td>38.500000</td>\n",
       "      <td>88.000000</td>\n",
       "      <td>34.500000</td>\n",
       "      <td>50.000000</td>\n",
       "      <td>52.000000</td>\n",
       "      <td>2.000000</td>\n",
       "    </tr>\n",
       "    <tr>\n",
       "      <td>max</td>\n",
       "      <td>2.000000</td>\n",
       "      <td>5.305629e+06</td>\n",
       "      <td>40.800000</td>\n",
       "      <td>184.000000</td>\n",
       "      <td>96.000000</td>\n",
       "      <td>75.000000</td>\n",
       "      <td>89.000000</td>\n",
       "      <td>3.000000</td>\n",
       "    </tr>\n",
       "  </tbody>\n",
       "</table>\n",
       "</div>"
      ],
      "text/plain": [
       "              age  hospital_number  rectal_temp       pulse  respiratory_rate  \\\n",
       "count  299.000000     2.990000e+02   299.000000  299.000000        299.000000   \n",
       "mean     1.080268     1.087733e+06    38.174916   71.357860         29.401338   \n",
       "std      0.272162     1.532032e+06     0.655851   27.554626         16.000822   \n",
       "min      1.000000     5.184760e+05    35.400000   30.000000          8.000000   \n",
       "25%      1.000000     5.289040e+05    37.900000   48.500000         20.000000   \n",
       "50%      1.000000     5.303010e+05    38.200000   64.000000         25.000000   \n",
       "75%      1.000000     5.347360e+05    38.500000   88.000000         34.500000   \n",
       "max      2.000000     5.305629e+06    40.800000  184.000000         96.000000   \n",
       "\n",
       "       packed_cell_volume  total_protein     outcome  \n",
       "count          299.000000     299.000000  299.000000  \n",
       "mean            46.180602      22.423077    1.551839  \n",
       "std              9.923490      26.336270    0.737187  \n",
       "min             23.000000       3.300000    1.000000  \n",
       "25%             39.000000       6.600000    1.000000  \n",
       "50%             45.000000       7.500000    1.000000  \n",
       "75%             50.000000      52.000000    2.000000  \n",
       "max             75.000000      89.000000    3.000000  "
      ]
     },
     "execution_count": 37,
     "metadata": {},
     "output_type": "execute_result"
    }
   ],
   "source": [
    "# To summarize the statistics in one table. \n",
    "\n",
    "df.describe()"
   ]
  },
  {
   "cell_type": "markdown",
   "metadata": {},
   "source": [
    "#### Probability Mass Function (PMF)\n",
    "Another way to represent a distribution is a probability mass function, which maps each value to its probability.  Above is a bar graph plot and step function plot that shows PMF of packed cell volume for surviving horses and those that did not survive.  Knowing that the mean of the entire distribution is 46.2 for packed cell volume, we can observe a higher probability of a packed cell volume above the mean for horses that did not live, than horses that lived. "
   ]
  },
  {
   "cell_type": "code",
   "execution_count": 38,
   "metadata": {},
   "outputs": [],
   "source": [
    "# Divide the DataFrame by the outcome, lived for horses that lived, and notlived \n",
    "# for horses that either died or were euthanized. \n",
    "\n",
    "lived = df[df.outcome == 1]\n",
    "not_lived = df[df.outcome != 1]"
   ]
  },
  {
   "cell_type": "code",
   "execution_count": 39,
   "metadata": {},
   "outputs": [],
   "source": [
    "# Use Pmf class to create Pmf objects\n",
    "\n",
    "lived_pmf1 = thinkstats2.Pmf(lived.packed_cell_volume, label='Lived')\n",
    "not_lived_pmf1 = thinkstats2.Pmf(not_lived.packed_cell_volume, label='Did Not Live')"
   ]
  },
  {
   "cell_type": "code",
   "execution_count": 40,
   "metadata": {},
   "outputs": [
    {
     "data": {
      "image/png": "[encoded data removed]",
      "text/plain": [
       "<Figure size 864x432 with 2 Axes>"
      ]
     },
     "metadata": {
      "needs_background": "light"
     },
     "output_type": "display_data"
    }
   ],
   "source": [
    "# Plot both Pmfs of packed cell volume for horses that lived and horses\n",
    "# that did not, as bar graph and step function plot.\n",
    "\n",
    "width=0.5\n",
    "axis = [20, 80, 0, 0.25]\n",
    "thinkplot.PrePlot(2, cols=2)\n",
    "thinkplot.Hist(lived_pmf1, align='right', width=width)\n",
    "thinkplot.Hist(not_lived_pmf1, align='left', width=width)\n",
    "thinkplot.Config(xlabel='Packed Cell Volume', ylabel='PMF', axis=axis)\n",
    "\n",
    "thinkplot.PrePlot(2)\n",
    "thinkplot.SubPlot(2)\n",
    "thinkplot.Pmfs([lived_pmf1, not_lived_pmf1])\n",
    "thinkplot.Config(xlabel='Packed Cell Volume', axis=axis)"
   ]
  },
  {
   "cell_type": "markdown",
   "metadata": {},
   "source": [
    "#### Cumulative Distribution Function (CDF)\n",
    "As the number of values increase, the probability associated with each value gets smaller and the effect of random noise increases. The CDF is a function that maps each value to its percentile rank. I looked at the CDF of a few different variables, pulse, rectal temperature, total protein, and respiratory rate, to gain a better idea of the distributions of each of the variables."
   ]
  },
  {
   "cell_type": "code",
   "execution_count": 41,
   "metadata": {},
   "outputs": [
    {
     "data": {
      "image/png": "[encoded data removed]",
      "text/plain": [
       "<Figure size 432x288 with 1 Axes>"
      ]
     },
     "metadata": {
      "needs_background": "light"
     },
     "output_type": "display_data"
    }
   ],
   "source": [
    "cdf = thinkstats2.Cdf(df.pulse, label = 'Pulse')\n",
    "thinkplot.Cdf(cdf)\n",
    "thinkplot.Config(xlabel='Pulse', ylabel='CDF')"
   ]
  },
  {
   "cell_type": "code",
   "execution_count": 42,
   "metadata": {},
   "outputs": [
    {
     "data": {
      "image/png": "[encoded data removed]",
      "text/plain": [
       "<Figure size 432x288 with 1 Axes>"
      ]
     },
     "metadata": {
      "needs_background": "light"
     },
     "output_type": "display_data"
    }
   ],
   "source": [
    "cdf1 = thinkstats2.Cdf(df.rectal_temp, label = 'Rectal Temperature (C)')\n",
    "thinkplot.Cdf(cdf1)\n",
    "thinkplot.Config(xlabel='Rectal Temperature (C)', ylabel='CDF')"
   ]
  },
  {
   "cell_type": "code",
   "execution_count": 43,
   "metadata": {},
   "outputs": [
    {
     "data": {
      "image/png": "[encoded data removed]",
      "text/plain": [
       "<Figure size 432x288 with 1 Axes>"
      ]
     },
     "metadata": {
      "needs_background": "light"
     },
     "output_type": "display_data"
    }
   ],
   "source": [
    "cdf2 = thinkstats2.Cdf(df.total_protein, label = 'Total Protein')\n",
    "thinkplot.Cdf(cdf2)\n",
    "thinkplot.Config(xlabel='Total Protein', ylabel='CDF')"
   ]
  },
  {
   "cell_type": "code",
   "execution_count": 44,
   "metadata": {},
   "outputs": [
    {
     "data": {
      "image/png": "[encoded data removed]",
      "text/plain": [
       "<Figure size 432x288 with 1 Axes>"
      ]
     },
     "metadata": {
      "needs_background": "light"
     },
     "output_type": "display_data"
    }
   ],
   "source": [
    "cdf3 = thinkstats2.Cdf(df.respiratory_rate, label = 'respiratory_rate')\n",
    "thinkplot.Cdf(cdf3)\n",
    "thinkplot.Config(xlabel='respiratory_rate', ylabel='CDF')"
   ]
  },
  {
   "cell_type": "markdown",
   "metadata": {},
   "source": [
    "##### Complementary CDF"
   ]
  },
  {
   "cell_type": "code",
   "execution_count": 45,
   "metadata": {},
   "outputs": [
    {
     "data": {
      "image/png": "[encoded data removed]",
      "text/plain": [
       "<Figure size 432x288 with 1 Axes>"
      ]
     },
     "metadata": {
      "needs_background": "light"
     },
     "output_type": "display_data"
    },
    {
     "data": {
      "text/plain": [
       "<Figure size 576x432 with 0 Axes>"
      ]
     },
     "metadata": {},
     "output_type": "display_data"
    }
   ],
   "source": [
    "# Based on the visual pattern of the CDF of pulse, I wanted \n",
    "# to explore this variable further by plotting the complementary CDF,\n",
    "# which is the analytical distribution used to model the empirical \n",
    "# distribution. For data from an exponential distriubtion, the \n",
    "# result is a straight line. We only observe this with a pulse from\n",
    "# 160 to 180. While our CDF of pulse appears to have the general shape\n",
    "# of an exponential distribution, it is not.\n",
    "\n",
    "thinkplot.Cdf(cdf, complement=True)\n",
    "thinkplot.Show(xlabel='Pulse',\n",
    "              ylabel='CCDF', yscale='log')"
   ]
  },
  {
   "cell_type": "markdown",
   "metadata": {},
   "source": [
    "#### Correlation and Covariance - Exploring Variables\n",
    "Pearson's correlation is best to be used when there is a linear relationship between the variables and the variables are roughly normal. Because of this, you should always look at the scatterplot first rather than blindly calculating a correlation coefficient. Based on the histograms, rectal temperature is the only variable with a normal distribution. Spearman's correlation mitigates the effects of outliers and skewed distributions. \n",
    "\n",
    "As most of the variables are measurements of a medical statistic, we cannot use time to help us infer direction of causation. We could use randomness, by dividing our sample into two groups at random and computing the mean to compare between the two groups. If the groups are close to identical in all variables but one, you can eliminate spurious relationships. \n",
    "\n",
    "Covariance is a measure of the tendency of two variables to vary together. Covariance is used below in the computations, as it is useful for computations but not reported as a summary statistic because it is hard to interpret, especially because of the difference in units used between the variables. "
   ]
  },
  {
   "cell_type": "code",
   "execution_count": 46,
   "metadata": {},
   "outputs": [],
   "source": [
    "# Define function to compute covariance\n",
    "# np.asarray converts python sequences to NumPy arrays, if not already\n",
    "# Deviation is computed from sample means if known means are not given\n",
    "# Cov is then calculated using dot product of deviations, divided by length\n",
    "\n",
    "def Cov(xs, ys, meanx=None, meany=None):\n",
    "    xs = np.asarray(xs)\n",
    "    ys = np.asarray(ys)\n",
    "\n",
    "    if meanx is None:\n",
    "        meanx = np.mean(xs)\n",
    "    if meany is None:\n",
    "        meany = np.mean(ys)\n",
    "\n",
    "    cov = np.dot(xs-meanx, ys-meany) / len(xs)\n",
    "    return cov"
   ]
  },
  {
   "cell_type": "code",
   "execution_count": 47,
   "metadata": {},
   "outputs": [],
   "source": [
    "# Define function to compute Pearson's correlation\n",
    "# np.asarray converts python sequences to NumPy arrays, if not already\n",
    "# MeanVar computes the mean and variance slightly more efficiently\n",
    "# than seperate calls to np.mean and np.var (as used in Cov)\n",
    "\n",
    "def Corr(xs, ys):\n",
    "    xs = np.asarray(xs)\n",
    "    ys = np.asarray(ys)\n",
    "\n",
    "    meanx, varx = thinkstats2.MeanVar(xs)\n",
    "    meany, vary = thinkstats2.MeanVar(ys)\n",
    "\n",
    "    corr = Cov(xs, ys, meanx, meany) / np.sqrt(varx * vary)\n",
    "    return corr"
   ]
  },
  {
   "cell_type": "code",
   "execution_count": 48,
   "metadata": {},
   "outputs": [],
   "source": [
    "# Define function to compute Spearman's rank correlation. \n",
    "# The arguments are converted to pandas Series objects so that rank \n",
    "# can be used to compute the rank of each value, returning a Series.\n",
    "# Then Corr is used to determine the correlation of the ranks.\n",
    "\n",
    "def SpearmanCorr(xs, ys):\n",
    "    xranks = pd.Series(xs).rank()\n",
    "    yranks = pd.Series(ys).rank()\n",
    "    return Corr(xranks, yranks)"
   ]
  },
  {
   "cell_type": "code",
   "execution_count": 49,
   "metadata": {},
   "outputs": [],
   "source": [
    "# Assign variables for easier access.\n",
    "\n",
    "age = df.age\n",
    "rectal_temp = df.rectal_temp\n",
    "pulse = df.pulse\n",
    "respiratory_rate = df.respiratory_rate\n",
    "packed_cell_volume = df.packed_cell_volume\n",
    "total_protein = df.total_protein\n",
    "outcome = df.outcome"
   ]
  },
  {
   "cell_type": "code",
   "execution_count": 50,
   "metadata": {},
   "outputs": [
    {
     "data": {
      "image/png": "[encoded data removed]",
      "text/plain": [
       "<Figure size 432x288 with 1 Axes>"
      ]
     },
     "metadata": {
      "needs_background": "light"
     },
     "output_type": "display_data"
    }
   ],
   "source": [
    "# Create scatterplot first prior to computing correlation as \n",
    "# Pearson's correlation only measures linear relationships.\n",
    "\n",
    "def ScatterPlot(pulse, respiratory_rate, alpha=0.4, s=.1):\n",
    "    \"\"\"Make a scatter plot using Scatter provided by thinkplot.\n",
    "    Alpha is used for saturation effect to make the points partly\n",
    "    transparent.\n",
    "\n",
    "    ages: sequence of float\n",
    "    weights: sequence of float\n",
    "    alpha: float\n",
    "    \"\"\"\n",
    "    thinkplot.Scatter(pulse, respiratory_rate, alpha=alpha)\n",
    "    thinkplot.Config(xlabel='Pulse',\n",
    "                     ylabel='Respiratory Rate',\n",
    "                     xlim=[0, 225],\n",
    "                     ylim=[0, 120],\n",
    "                     legend=False)\n",
    "    \n",
    "ScatterPlot(pulse, respiratory_rate, alpha=0.4, s=.1)"
   ]
  },
  {
   "cell_type": "code",
   "execution_count": 51,
   "metadata": {},
   "outputs": [
    {
     "name": "stdout",
     "output_type": "stream",
     "text": [
      "Correlation 0.4333455150755774\n",
      "Spearman's Correlation 0.42220440002708126\n"
     ]
    }
   ],
   "source": [
    "# Compute Pearson's and Spearman's corelations between pulse  \n",
    "# and respiratory rate.\n",
    "\n",
    "print('Correlation', Corr(pulse, respiratory_rate))\n",
    "print(\"Spearman's Correlation\", SpearmanCorr(pulse, respiratory_rate))"
   ]
  },
  {
   "cell_type": "code",
   "execution_count": 52,
   "metadata": {},
   "outputs": [
    {
     "data": {
      "image/png": "[encoded data removed]",
      "text/plain": [
       "<Figure size 432x288 with 1 Axes>"
      ]
     },
     "metadata": {
      "needs_background": "light"
     },
     "output_type": "display_data"
    }
   ],
   "source": [
    "# Create scatterplot first prior to computing correlation as \n",
    "# Pearson's correlation only measures linear relationships.\n",
    "\n",
    "def ScatterPlot(total_protein, packed_cell_volume, alpha=0.7, s=1):\n",
    "    \"\"\"Make a scatter plot using Scatter provided by thinkplot.\n",
    "    Alpha is used for saturation effect to make the points partly\n",
    "    transparent.\n",
    "\n",
    "    ages: sequence of float\n",
    "    weights: sequence of float\n",
    "    alpha: float\n",
    "    \"\"\"\n",
    "    thinkplot.Scatter(total_protein, packed_cell_volume, alpha=alpha)\n",
    "    thinkplot.Config(xlabel='Total Protein',\n",
    "                     ylabel='Packed Cell Volume',\n",
    "                     xlim=[25, 120],\n",
    "                     ylim=[5, 100],\n",
    "                     legend=False)\n",
    "    \n",
    "ScatterPlot(total_protein, respiratory_rate, alpha=0.7, s=1)"
   ]
  },
  {
   "cell_type": "code",
   "execution_count": 53,
   "metadata": {},
   "outputs": [
    {
     "name": "stdout",
     "output_type": "stream",
     "text": [
      "Correlation -0.05257846621558982\n",
      "Spearman's Correlation 0.16367631549353887\n"
     ]
    }
   ],
   "source": [
    "# Compute Pearson's and Spearman's corelations between pulse  \n",
    "# and respiratory rate.\n",
    "\n",
    "print('Correlation', Corr(total_protein, packed_cell_volume))\n",
    "print(\"Spearman's Correlation\", SpearmanCorr(total_protein, packed_cell_volume))"
   ]
  },
  {
   "cell_type": "code",
   "execution_count": 54,
   "metadata": {},
   "outputs": [
    {
     "data": {
      "image/png": "[encoded data removed]",
      "text/plain": [
       "<Figure size 432x288 with 1 Axes>"
      ]
     },
     "metadata": {
      "needs_background": "light"
     },
     "output_type": "display_data"
    }
   ],
   "source": [
    "# Create scatterplot first prior to computing correlation as \n",
    "# Pearson's correlation only measures linear relationships.\n",
    "\n",
    "def ScatterPlot(packed_cell_volume, outcome, alpha=0.5, s=1):\n",
    "    \"\"\"Make a scatter plot using Scatter provided by thinkplot.\n",
    "    Alpha is used for saturation effect to make the points partly\n",
    "    transparent.\n",
    "\n",
    "    ages: sequence of float\n",
    "    weights: sequence of float\n",
    "    alpha: float\n",
    "    \"\"\"\n",
    "    thinkplot.Scatter(packed_cell_volume, outcome, alpha=alpha)\n",
    "    thinkplot.Config(xlabel='Packed Cell Volume',\n",
    "                     ylabel='Outcome',\n",
    "                     xlim=[30, 190],\n",
    "                     ylim=[0, 3],\n",
    "                     legend=False)\n",
    "    \n",
    "ScatterPlot(packed_cell_volume, outcome, alpha=0.5, s=1)"
   ]
  },
  {
   "cell_type": "code",
   "execution_count": 55,
   "metadata": {},
   "outputs": [
    {
     "name": "stdout",
     "output_type": "stream",
     "text": [
      "Correlation 0.3399988490621673\n",
      "Spearman's Correlation 0.3550567079000444\n"
     ]
    }
   ],
   "source": [
    "print('Correlation', Corr(packed_cell_volume, outcome))\n",
    "print(\"Spearman's Correlation\", SpearmanCorr(packed_cell_volume, outcome))"
   ]
  },
  {
   "cell_type": "markdown",
   "metadata": {},
   "source": [
    "#### Hypothesis Testing\n",
    "Quantify the size of the apparent effect by choosing a test statistic.  Define null hypothesis, a model based on the assumption that the apparent effect is NOT real. For this null hypothesis, there is no difference between horses that survived and those that did not. The packed cell volume for both groups have the same distribution. Compute the actual difference in means, then compute the probability of seeing a difference as big, or bigger, under the null hypothesis.  if p-value is low, the effect is said to be statistically significant meaning it is unlikely to have occurred by chance. The effect is more likely to appear in the larger population. There is no intersection of the CDF observed and the p-value result is 0.0 meaning the difference in packed cell volume between the groups is statistically significant. "
   ]
  },
  {
   "cell_type": "code",
   "execution_count": 56,
   "metadata": {},
   "outputs": [],
   "source": [
    "# Null hypothesis that the distributions for the groups are the same.\n",
    "# Model null hypothesis by permutation, taking the values for first \n",
    "# babies and others and shuffling, to treat two groups as one big group.\n",
    "# Data is a pair of sequences, one for each group.\n",
    "# Test statistic computes the absolute difference in means.\n",
    "# Make model records length of each group, n and m.\n",
    "# Self.pool combines the groups to one NumPy array.\n",
    "# Run model will simulate the null hypothesis by shuffling the pooled \n",
    "# values and splitting them into groups n and m. \n",
    "\n",
    "class DiffMeansPermute(thinkstats2.HypothesisTest):\n",
    "\n",
    "    def TestStatistic(self, data):\n",
    "        group1, group2 = data\n",
    "        test_stat = abs(group1.mean() - group2.mean())\n",
    "        return test_stat\n",
    "\n",
    "    def MakeModel(self):\n",
    "        group1, group2 = self.data\n",
    "        self.n, self.m = len(group1), len(group2)\n",
    "        self.pool = np.hstack((group1, group2))\n",
    "\n",
    "    def RunModel(self):\n",
    "        np.random.shuffle(self.pool)\n",
    "        data = self.pool[:self.n], self.pool[self.n:]\n",
    "        return data"
   ]
  },
  {
   "cell_type": "code",
   "execution_count": 57,
   "metadata": {},
   "outputs": [
    {
     "data": {
      "text/plain": [
       "0.0"
      ]
     },
     "execution_count": 57,
     "metadata": {},
     "output_type": "execute_result"
    }
   ],
   "source": [
    "# Extract packed cell volume as numpy arrays.\n",
    "# Call function on data and calculate the p-value.\n",
    "\n",
    "data = lived.packed_cell_volume.values, not_lived.packed_cell_volume.values\n",
    "ht = DiffMeansPermute(data)\n",
    "pvalue = ht.PValue()\n",
    "pvalue"
   ]
  },
  {
   "cell_type": "code",
   "execution_count": 58,
   "metadata": {},
   "outputs": [
    {
     "data": {
      "image/png": "[encoded data removed]",
      "text/plain": [
       "<Figure size 432x288 with 1 Axes>"
      ]
     },
     "metadata": {
      "needs_background": "light"
     },
     "output_type": "display_data"
    },
    {
     "data": {
      "text/plain": [
       "<Figure size 576x432 with 0 Axes>"
      ]
     },
     "metadata": {},
     "output_type": "display_data"
    }
   ],
   "source": [
    "# Plot the distribution of the test statistic \n",
    "# The grey line indicates the observed \n",
    "ht.PlotCdf()\n",
    "thinkplot.Show(xlabel='Test Statistic', ylabel='CDF')"
   ]
  },
  {
   "cell_type": "markdown",
   "metadata": {},
   "source": [
    "#### Regression\n",
    "Below, I have two seperate models created, both with the packed cell volume as the dependent variable. For the first model, the explanatory variables are outcome equal to living and respiratory rate.  The second model also includes pulse as an explanatory variable. In both models, all of the p-values are below 0.05, except respiratory rate. These p-values indicate that there is a statistically significant relationship between packed cell volume and outcome and pulse. R2, coefficient of determination, is 0.2, which indicates that 20% of the variation in the outcome is explained by predicting the outcome using the predictors in the model.  This is a low result indicating that the model may not be a good fit for the data. It should be noted that R2 is also best used for linear relationships."
   ]
  },
  {
   "cell_type": "code",
   "execution_count": 59,
   "metadata": {},
   "outputs": [
    {
     "data": {
      "text/html": [
       "<table class=\"simpletable\">\n",
       "<caption>OLS Regression Results</caption>\n",
       "<tr>\n",
       "  <th>Dep. Variable:</th>    <td>packed_cell_volume</td> <th>  R-squared:         </th> <td>   0.164</td>\n",
       "</tr>\n",
       "<tr>\n",
       "  <th>Model:</th>                    <td>OLS</td>        <th>  Adj. R-squared:    </th> <td>   0.158</td>\n",
       "</tr>\n",
       "<tr>\n",
       "  <th>Method:</th>              <td>Least Squares</td>   <th>  F-statistic:       </th> <td>   28.95</td>\n",
       "</tr>\n",
       "<tr>\n",
       "  <th>Date:</th>              <td>Thu, 28 May 2020</td>  <th>  Prob (F-statistic):</th> <td>3.28e-12</td>\n",
       "</tr>\n",
       "<tr>\n",
       "  <th>Time:</th>                  <td>12:35:32</td>      <th>  Log-Likelihood:    </th> <td> -1083.2</td>\n",
       "</tr>\n",
       "<tr>\n",
       "  <th>No. Observations:</th>       <td>   299</td>       <th>  AIC:               </th> <td>   2172.</td>\n",
       "</tr>\n",
       "<tr>\n",
       "  <th>Df Residuals:</th>           <td>   296</td>       <th>  BIC:               </th> <td>   2184.</td>\n",
       "</tr>\n",
       "<tr>\n",
       "  <th>Df Model:</th>               <td>     2</td>       <th>                     </th>     <td> </td>   \n",
       "</tr>\n",
       "<tr>\n",
       "  <th>Covariance Type:</th>       <td>nonrobust</td>     <th>                     </th>     <td> </td>   \n",
       "</tr>\n",
       "</table>\n",
       "<table class=\"simpletable\">\n",
       "<tr>\n",
       "            <td></td>              <th>coef</th>     <th>std err</th>      <th>t</th>      <th>P>|t|</th>  <th>[0.025</th>    <th>0.975]</th>  \n",
       "</tr>\n",
       "<tr>\n",
       "  <th>Intercept</th>            <td>   50.2437</td> <td>    1.309</td> <td>   38.393</td> <td> 0.000</td> <td>   47.668</td> <td>   52.819</td>\n",
       "</tr>\n",
       "<tr>\n",
       "  <th>outcome == 1[T.True]</th> <td>   -8.0693</td> <td>    1.075</td> <td>   -7.505</td> <td> 0.000</td> <td>  -10.185</td> <td>   -5.953</td>\n",
       "</tr>\n",
       "<tr>\n",
       "  <th>respiratory_rate</th>     <td>    0.0252</td> <td>    0.033</td> <td>    0.763</td> <td> 0.446</td> <td>   -0.040</td> <td>    0.090</td>\n",
       "</tr>\n",
       "</table>\n",
       "<table class=\"simpletable\">\n",
       "<tr>\n",
       "  <th>Omnibus:</th>       <td>14.152</td> <th>  Durbin-Watson:     </th> <td>   1.867</td>\n",
       "</tr>\n",
       "<tr>\n",
       "  <th>Prob(Omnibus):</th> <td> 0.001</td> <th>  Jarque-Bera (JB):  </th> <td>  14.789</td>\n",
       "</tr>\n",
       "<tr>\n",
       "  <th>Skew:</th>          <td> 0.520</td> <th>  Prob(JB):          </th> <td>0.000615</td>\n",
       "</tr>\n",
       "<tr>\n",
       "  <th>Kurtosis:</th>      <td> 3.323</td> <th>  Cond. No.          </th> <td>    95.2</td>\n",
       "</tr>\n",
       "</table><br/><br/>Warnings:<br/>[1] Standard Errors assume that the covariance matrix of the errors is correctly specified."
      ],
      "text/plain": [
       "<class 'statsmodels.iolib.summary.Summary'>\n",
       "\"\"\"\n",
       "                            OLS Regression Results                            \n",
       "==============================================================================\n",
       "Dep. Variable:     packed_cell_volume   R-squared:                       0.164\n",
       "Model:                            OLS   Adj. R-squared:                  0.158\n",
       "Method:                 Least Squares   F-statistic:                     28.95\n",
       "Date:                Thu, 28 May 2020   Prob (F-statistic):           3.28e-12\n",
       "Time:                        12:35:32   Log-Likelihood:                -1083.2\n",
       "No. Observations:                 299   AIC:                             2172.\n",
       "Df Residuals:                     296   BIC:                             2184.\n",
       "Df Model:                           2                                         \n",
       "Covariance Type:            nonrobust                                         \n",
       "========================================================================================\n",
       "                           coef    std err          t      P>|t|      [0.025      0.975]\n",
       "----------------------------------------------------------------------------------------\n",
       "Intercept               50.2437      1.309     38.393      0.000      47.668      52.819\n",
       "outcome == 1[T.True]    -8.0693      1.075     -7.505      0.000     -10.185      -5.953\n",
       "respiratory_rate         0.0252      0.033      0.763      0.446      -0.040       0.090\n",
       "==============================================================================\n",
       "Omnibus:                       14.152   Durbin-Watson:                   1.867\n",
       "Prob(Omnibus):                  0.001   Jarque-Bera (JB):               14.789\n",
       "Skew:                           0.520   Prob(JB):                     0.000615\n",
       "Kurtosis:                       3.323   Cond. No.                         95.2\n",
       "==============================================================================\n",
       "\n",
       "Warnings:\n",
       "[1] Standard Errors assume that the covariance matrix of the errors is correctly specified.\n",
       "\"\"\""
      ]
     },
     "execution_count": 59,
     "metadata": {},
     "output_type": "execute_result"
    }
   ],
   "source": [
    "# smf.ols takes formula string and data frame and returns an OLS object (\"ordinary least\n",
    "# squares\") that represents the model.\n",
    "# The fit method fits the model to the data and returns a RegressionResults object.\n",
    "# Print results in a readable format using summary(). \n",
    "\n",
    "model = smf.ols('packed_cell_volume ~ outcome==1 + respiratory_rate', data=df)\n",
    "results = model.fit()\n",
    "results.summary()"
   ]
  },
  {
   "cell_type": "code",
   "execution_count": 60,
   "metadata": {},
   "outputs": [
    {
     "data": {
      "text/html": [
       "<table class=\"simpletable\">\n",
       "<caption>OLS Regression Results</caption>\n",
       "<tr>\n",
       "  <th>Dep. Variable:</th>    <td>packed_cell_volume</td> <th>  R-squared:         </th> <td>   0.228</td>\n",
       "</tr>\n",
       "<tr>\n",
       "  <th>Model:</th>                    <td>OLS</td>        <th>  Adj. R-squared:    </th> <td>   0.220</td>\n",
       "</tr>\n",
       "<tr>\n",
       "  <th>Method:</th>              <td>Least Squares</td>   <th>  F-statistic:       </th> <td>   28.99</td>\n",
       "</tr>\n",
       "<tr>\n",
       "  <th>Date:</th>              <td>Thu, 28 May 2020</td>  <th>  Prob (F-statistic):</th> <td>1.87e-16</td>\n",
       "</tr>\n",
       "<tr>\n",
       "  <th>Time:</th>                  <td>12:35:32</td>      <th>  Log-Likelihood:    </th> <td> -1071.3</td>\n",
       "</tr>\n",
       "<tr>\n",
       "  <th>No. Observations:</th>       <td>   299</td>       <th>  AIC:               </th> <td>   2151.</td>\n",
       "</tr>\n",
       "<tr>\n",
       "  <th>Df Residuals:</th>           <td>   295</td>       <th>  BIC:               </th> <td>   2165.</td>\n",
       "</tr>\n",
       "<tr>\n",
       "  <th>Df Model:</th>               <td>     3</td>       <th>                     </th>     <td> </td>   \n",
       "</tr>\n",
       "<tr>\n",
       "  <th>Covariance Type:</th>       <td>nonrobust</td>     <th>                     </th>     <td> </td>   \n",
       "</tr>\n",
       "</table>\n",
       "<table class=\"simpletable\">\n",
       "<tr>\n",
       "            <td></td>              <th>coef</th>     <th>std err</th>      <th>t</th>      <th>P>|t|</th>  <th>[0.025</th>    <th>0.975]</th>  \n",
       "</tr>\n",
       "<tr>\n",
       "  <th>Intercept</th>            <td>   43.6220</td> <td>    1.838</td> <td>   23.731</td> <td> 0.000</td> <td>   40.004</td> <td>   47.240</td>\n",
       "</tr>\n",
       "<tr>\n",
       "  <th>outcome == 1[T.True]</th> <td>   -6.1225</td> <td>    1.107</td> <td>   -5.529</td> <td> 0.000</td> <td>   -8.302</td> <td>   -3.943</td>\n",
       "</tr>\n",
       "<tr>\n",
       "  <th>respiratory_rate</th>     <td>   -0.0516</td> <td>    0.035</td> <td>   -1.458</td> <td> 0.146</td> <td>   -0.121</td> <td>    0.018</td>\n",
       "</tr>\n",
       "<tr>\n",
       "  <th>pulse</th>                <td>    0.1082</td> <td>    0.022</td> <td>    4.946</td> <td> 0.000</td> <td>    0.065</td> <td>    0.151</td>\n",
       "</tr>\n",
       "</table>\n",
       "<table class=\"simpletable\">\n",
       "<tr>\n",
       "  <th>Omnibus:</th>       <td> 9.212</td> <th>  Durbin-Watson:     </th> <td>   1.888</td>\n",
       "</tr>\n",
       "<tr>\n",
       "  <th>Prob(Omnibus):</th> <td> 0.010</td> <th>  Jarque-Bera (JB):  </th> <td>  10.067</td>\n",
       "</tr>\n",
       "<tr>\n",
       "  <th>Skew:</th>          <td> 0.330</td> <th>  Prob(JB):          </th> <td> 0.00652</td>\n",
       "</tr>\n",
       "<tr>\n",
       "  <th>Kurtosis:</th>      <td> 3.611</td> <th>  Cond. No.          </th> <td>    322.</td>\n",
       "</tr>\n",
       "</table><br/><br/>Warnings:<br/>[1] Standard Errors assume that the covariance matrix of the errors is correctly specified."
      ],
      "text/plain": [
       "<class 'statsmodels.iolib.summary.Summary'>\n",
       "\"\"\"\n",
       "                            OLS Regression Results                            \n",
       "==============================================================================\n",
       "Dep. Variable:     packed_cell_volume   R-squared:                       0.228\n",
       "Model:                            OLS   Adj. R-squared:                  0.220\n",
       "Method:                 Least Squares   F-statistic:                     28.99\n",
       "Date:                Thu, 28 May 2020   Prob (F-statistic):           1.87e-16\n",
       "Time:                        12:35:32   Log-Likelihood:                -1071.3\n",
       "No. Observations:                 299   AIC:                             2151.\n",
       "Df Residuals:                     295   BIC:                             2165.\n",
       "Df Model:                           3                                         \n",
       "Covariance Type:            nonrobust                                         \n",
       "========================================================================================\n",
       "                           coef    std err          t      P>|t|      [0.025      0.975]\n",
       "----------------------------------------------------------------------------------------\n",
       "Intercept               43.6220      1.838     23.731      0.000      40.004      47.240\n",
       "outcome == 1[T.True]    -6.1225      1.107     -5.529      0.000      -8.302      -3.943\n",
       "respiratory_rate        -0.0516      0.035     -1.458      0.146      -0.121       0.018\n",
       "pulse                    0.1082      0.022      4.946      0.000       0.065       0.151\n",
       "==============================================================================\n",
       "Omnibus:                        9.212   Durbin-Watson:                   1.888\n",
       "Prob(Omnibus):                  0.010   Jarque-Bera (JB):               10.067\n",
       "Skew:                           0.330   Prob(JB):                      0.00652\n",
       "Kurtosis:                       3.611   Cond. No.                         322.\n",
       "==============================================================================\n",
       "\n",
       "Warnings:\n",
       "[1] Standard Errors assume that the covariance matrix of the errors is correctly specified.\n",
       "\"\"\""
      ]
     },
     "execution_count": 60,
     "metadata": {},
     "output_type": "execute_result"
    }
   ],
   "source": [
    "model1 = smf.ols('packed_cell_volume ~ outcome==1 + respiratory_rate + pulse', data=df)\n",
    "results1 = model1.fit()\n",
    "results1.summary()"
   ]
  }
 ],
 "metadata": {
  "kernelspec": {
   "display_name": "Python 3",
   "language": "python",
   "name": "python3"
  },
  "language_info": {
   "codemirror_mode": {
    "name": "ipython",
    "version": 3
   },
   "file_extension": ".py",
   "mimetype": "text/x-python",
   "name": "python",
   "nbconvert_exporter": "python",
   "pygments_lexer": "ipython3",
   "version": "3.7.4"
  }
 },
 "nbformat": 4,
 "nbformat_minor": 2
}
